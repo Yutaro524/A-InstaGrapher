{
 "cells": [
  {
   "cell_type": "code",
   "execution_count": null,
   "metadata": {},
   "outputs": [],
   "source": [
    "import pandas as pd\n",
    "df1 = pd.read_csv(\"onsen_info.csv\")\n",
    "\n",
    "def filter_df(df, lat, long):\n",
    "    threshold = 1\n",
    "    while(1):\n",
    "        print(df[\"東経(゜)\"])\n",
    "        if len(df[(df[\"東経(゜)\"] + 0.01*df[\"東経(′)\"] + 0.0001*df[\"東経(″)\"] - long)**2 + (df[\"北緯(゜)\"] + 0.01*df[\"北緯(′)\"] + 0.0001*df[\"北緯(″)\"] - lat)**2 <= threshold]) == 1:\n",
    "            break\n",
    "        else:\n",
    "            threshold = threshold - 0.1\n",
    "    return df[(df[\"東経(゜)\"] + 0.01*df[\"東経(′)\"] + 0.0001*df[\"東経(″)\"] - long)**2 + (df[\"北緯(゜)\"] + 0.01*df[\"北緯(′)\"] + 0.0001*df[\"北緯(″)\"] - lat)**2 <= threshold+0.1]\n",
    "\n",
    "df_test = pd.read_csv(\"./suisitucsv/愛知.csv\")\n",
    "columns = []\n",
    "for item in df1.columns:\n",
    "    columns.append(item)\n",
    "for item in df_test.columns:\n",
    "    columns.append(item)\n",
    "df = pd.DataFrame(columns=columns)\n",
    "\n",
    "for i, row in df1.query(\"latitude!='不明'\").iterrows():\n",
    "    print(row)\n",
    "    pref = row.prefecture\n",
    "    city = row.city\n",
    "    name = row.name\n",
    "    lat = float(row.latitude)\n",
    "    long = float(row.longitude)\n",
    "    if pref[-1] != \"道\":\n",
    "        pref = pref[:-1]\n",
    "        df2 = pd.read_csv(\"./suisitucsv/\"+pref+\".csv\")\n",
    "    else:\n",
    "        df2 = pd.concat([pd.read_csv(\"./suisitucsv/\"+pref+\"1.csv\"), pd.read_csv(\"./suisitucsv/\"+pref+\"2.csv\")])\n",
    "    df2 = df2.dropna(subset=[\"東経(゜)\", \"東経(′)\", \"東経(″)\", \"北緯(゜)\", \"北緯(′)\", \"北緯(″)\"])\n",
    "\n",
    "    min_dis = 10000\n",
    "    nearest_data = pd.Series()\n",
    "    for index, data in df2[df2[\"利用目的\"].str.contains(\"温泉\")].iterrows():\n",
    "        try:\n",
    "            cur_dis = (data[\"東経(゜)\"] + 0.01 * data[\"東経(′)\"] + 0.0001 * data[\"東経(″)\"] - long) ** 2 + (data[\"北緯(゜)\"] + 0.01 * data[\"北緯(′)\"] + 0.0001 * data[\"北緯(″)\"] - lat) ** 2\n",
    "            if cur_dis < min_dis:\n",
    "                min_dis = cur_dis\n",
    "                nearest_data = data\n",
    "        except TypeError:\n",
    "            pass\n",
    "    data = pd.concat([row, nearest_data.fillna(0)])\n",
    "    df = df.append(data, ignore_index=True)\n",
    "df.to_csv(\"merged_onsen_info.csv\", index=False)\n",
    "\n",
    "\n",
    "            \n",
    "                    \n",
    "\n"
   ]
  },
  {
   "cell_type": "code",
   "execution_count": null,
   "metadata": {},
   "outputs": [],
   "source": [
    "df3 = pd.read_csv(\"merged_onsen_info.csv\")\n",
    "df3"
   ]
  },
  {
   "cell_type": "code",
   "execution_count": null,
   "metadata": {},
   "outputs": [],
   "source": []
  }
 ],
 "metadata": {
  "kernelspec": {
   "display_name": "Python 3",
   "language": "python",
   "name": "python3"
  },
  "language_info": {
   "codemirror_mode": {
    "name": "ipython",
    "version": 3
   },
   "file_extension": ".py",
   "mimetype": "text/x-python",
   "name": "python",
   "nbconvert_exporter": "python",
   "pygments_lexer": "ipython3",
   "version": "3.8.3"
  }
 },
 "nbformat": 4,
 "nbformat_minor": 4
}
